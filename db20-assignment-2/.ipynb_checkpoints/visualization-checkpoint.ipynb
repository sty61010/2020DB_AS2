{
 "cells": [
  {
   "cell_type": "code",
   "execution_count": 89,
   "metadata": {},
   "outputs": [],
   "source": [
    "import csv\n",
    "import pandas as pd\n",
    "import numpy as np\n",
    "import glob \n",
    "import matplotlib.pyplot as plt\n"
   ]
  },
  {
   "cell_type": "code",
   "execution_count": 90,
   "metadata": {},
   "outputs": [],
   "source": [
    "# def Plot_Data(plt, data, color='red', filename, label):\n",
    "#     x =[p[0] for p in data]\n",
    "#     y =[p[1] for p in data]\n",
    "\n",
    "#     plt.xlabel('time(sec)')\n",
    "#     plt.ylabel('throughput(txs)')\n",
    "    \n",
    "#     plt.plot(x, y, color=color, label=label)\n",
    "#     plt.legend(loc='best', prop={'size':6})\n",
    "#     plt.savefig(filename+\".png\", dpi=300)"
   ]
  },
  {
   "cell_type": "code",
   "execution_count": 115,
   "metadata": {},
   "outputs": [
    {
     "name": "stdout",
     "output_type": "stream",
     "text": [
      "['5' '10' '15' '20' '25' '30' '35' '40' '45' '50' '55']\n",
      "0     9887\n",
      "1     8292\n",
      "2     8193\n",
      "3     8088\n",
      "4     8347\n",
      "5     8273\n",
      "6     8290\n",
      "7     8258\n",
      "8     7487\n",
      "9     7132\n",
      "10    6863\n",
      "Name:  throughput(txs), dtype: object\n"
     ]
    },
    {
     "data": {
      "image/png": "[encoded data removed]",
      "text/plain": [
       "<Figure size 432x288 with 1 Axes>"
      ]
     },
     "metadata": {
      "needs_background": "light"
     },
     "output_type": "display_data"
    }
   ],
   "source": [
    "input_files = glob.glob('./experiments/*.csv')\n",
    "for input_file in input_files:\n",
    "#     print(input_file)\n",
    "    file = pd.read_csv(input_file, encoding = 'utf8')\n",
    "    with open(input_file, 'r', encoding = 'utf8') as rFile:\n",
    "        file_reader = csv.reader(rFile)\n",
    "        header = next(file_reader)\n",
    "    title = [n for n in header if n != '']\n",
    "#     print(title)\n",
    "    count_header = len(title)\n",
    "\n",
    "#     datalength = len(file[title[0]])\n",
    "#     print(file['time(sec)'])\n",
    "#     print(file)\n",
    "#     print(file[' throughput(txs)'])\n",
    "#     print(file_reader)\n",
    "#     print(input_file.strip(\".csv\"))\n",
    "\n",
    "    data_y = np.array(file[' throughput(txs)'][:11])\n",
    "    data_x = np.array(file['time(sec)'][:11])\n",
    "    print(data_x)\n",
    "    print(data_y)\n",
    "#     result = []\n",
    "#     result = np.append(data_x, data_y, axis=1)\n",
    "#     plt.axis([0.0, 50.0, 0.0, 10000.0])\n",
    "    plt.xlabel('time(sec)')\n",
    "    plt.ylabel('throughput(txs)')\n",
    "    plt.plot(data_x, data_y, '-', color='red', label=input_file.strip(\".csv\"))\n",
    "    plt.legend(loc='best', prop={'size':6})\n",
    "#     plt.savefig(filename+\".png\", dpi=300)\n",
    "    break"
   ]
  },
  {
   "cell_type": "code",
   "execution_count": null,
   "metadata": {},
   "outputs": [],
   "source": []
  },
  {
   "cell_type": "code",
   "execution_count": null,
   "metadata": {},
   "outputs": [],
   "source": []
  },
  {
   "cell_type": "code",
   "execution_count": null,
   "metadata": {},
   "outputs": [],
   "source": []
  }
 ],
 "metadata": {
  "kernelspec": {
   "display_name": "Python 3",
   "language": "python",
   "name": "python3"
  },
  "language_info": {
   "codemirror_mode": {
    "name": "ipython",
    "version": 3
   },
   "file_extension": ".py",
   "mimetype": "text/x-python",
   "name": "python",
   "nbconvert_exporter": "python",
   "pygments_lexer": "ipython3",
   "version": "3.7.4"
  }
 },
 "nbformat": 4,
 "nbformat_minor": 4
}
